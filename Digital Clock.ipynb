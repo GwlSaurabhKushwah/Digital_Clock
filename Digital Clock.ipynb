{
 "cells": [
  {
   "cell_type": "code",
   "execution_count": 132,
   "id": "e110e047",
   "metadata": {},
   "outputs": [],
   "source": [
    "from tkinter import *\n",
    "import datetime"
   ]
  },
  {
   "cell_type": "code",
   "execution_count": 454,
   "id": "7af39c3c",
   "metadata": {},
   "outputs": [],
   "source": [
    "def date_time():\n",
    "    time = datetime.datetime.now()\n",
    "    hr = time.strftime('%I')\n",
    "    mi = time.strftime('%M')\n",
    "    sec = time.strftime('%S')\n",
    "    am = time.strftime('%p')\n",
    "    \n",
    "    \n",
    "    date =  time.strftime('%d')\n",
    "    month =  time.strftime('%m')\n",
    "    year =  time.strftime('%y')\n",
    "    day =  time.strftime('%a')\n",
    "    \n",
    "    \n",
    "    \n",
    "    lab_date.config(text = date)\n",
    "    lab_mo.config(text = month)\n",
    "    lab_year.config(text = year)\n",
    "    lab_day.config(text = day)\n",
    "    \n",
    "    lab_hr.config(text = hr)\n",
    "    lab_min.config(text = mi)\n",
    "    lab_sec.config(text = sec)\n",
    "    lab_am.config(text = am)\n",
    "    \n",
    "    \n",
    "    \n",
    "    lab_hr.after(200,date_time)   #recalling of data\n",
    "    \n",
    "# date_time()"
   ]
  },
  {
   "cell_type": "code",
   "execution_count": 477,
   "id": "20040afb",
   "metadata": {},
   "outputs": [],
   "source": [
    "clock  = Tk()"
   ]
  },
  {
   "cell_type": "code",
   "execution_count": 478,
   "id": "51521e55",
   "metadata": {},
   "outputs": [
    {
     "data": {
      "text/plain": [
       "''"
      ]
     },
     "execution_count": 478,
     "metadata": {},
     "output_type": "execute_result"
    }
   ],
   "source": [
    "clock.title('          *****Digital Clock*****')"
   ]
  },
  {
   "cell_type": "code",
   "execution_count": 479,
   "id": "e16881da",
   "metadata": {},
   "outputs": [
    {
     "data": {
      "text/plain": [
       "''"
      ]
     },
     "execution_count": 479,
     "metadata": {},
     "output_type": "execute_result"
    }
   ],
   "source": [
    "clock.geometry('1000x500')\n"
   ]
  },
  {
   "cell_type": "code",
   "execution_count": 480,
   "id": "bc3479fe",
   "metadata": {},
   "outputs": [],
   "source": [
    "clock.config(bg = 'pink')"
   ]
  },
  {
   "cell_type": "code",
   "execution_count": 481,
   "id": "1607ca16",
   "metadata": {},
   "outputs": [],
   "source": [
    "lab_hr = Label(clock,text = '00',font = ('Time New Roman ',60,'bold'),\n",
    "              bg = 'red',fg = 'white')\n",
    "lab_hr.place(x = 120,y = 50,height = 110,width = 100)"
   ]
  },
  {
   "cell_type": "code",
   "execution_count": 482,
   "id": "c543c0d7",
   "metadata": {},
   "outputs": [],
   "source": [
    "lab_hr_text = Label(clock,text = 'Hour',font = ('Time New Roman ',20,'bold'),\n",
    "              bg = 'red',fg = 'white')\n",
    "lab_hr_text.place(x = 120,y = 190,height = 40,width = 100)"
   ]
  },
  {
   "cell_type": "code",
   "execution_count": 483,
   "id": "f6d5f234",
   "metadata": {},
   "outputs": [],
   "source": [
    "lab_min = Label(clock,text = '00',font = ('Time New Roman ',60,'bold'),\n",
    "              bg = 'red',fg = 'white')\n",
    "lab_min.place(x= 340,y = 50,height = 110,width = 100)"
   ]
  },
  {
   "cell_type": "code",
   "execution_count": 484,
   "id": "19ea7469",
   "metadata": {},
   "outputs": [],
   "source": [
    "lab_min_text = Label(clock,text = 'Min.',font = ('Time New Roman ',20,'bold'),\n",
    "              bg = 'red',fg = 'white')\n",
    "lab_min_text.place(x = 340,y = 190,height = 40,width = 100)"
   ]
  },
  {
   "cell_type": "code",
   "execution_count": 485,
   "id": "04e7a454",
   "metadata": {},
   "outputs": [],
   "source": [
    "lab_sec = Label(clock,text = '00',font = ('Time New Roman ',60,'bold'),\n",
    "              bg = 'red',fg = 'white')\n",
    "\n",
    "lab_sec.place(x = 560,y = 50,height = 110,width = 100)\n"
   ]
  },
  {
   "cell_type": "code",
   "execution_count": 486,
   "id": "b84b0c33",
   "metadata": {},
   "outputs": [],
   "source": [
    "lab_sec_text = Label(clock,text = 'Sec.',font = ('Time New Roman ',20,'bold'),\n",
    "              bg = 'red',fg = 'white')\n",
    "lab_sec_text.place(x = 560,y = 190,height = 40,width = 100)"
   ]
  },
  {
   "cell_type": "code",
   "execution_count": 487,
   "id": "69550c5c",
   "metadata": {},
   "outputs": [],
   "source": [
    "lab_am = Label(clock,text = '00',font = ('Time New Roman ',50,'bold'),\n",
    "              bg = 'red',fg = 'white')\n",
    "\n",
    "lab_am.place(x = 780,y = 50,height = 110,width = 100)"
   ]
  },
  {
   "cell_type": "code",
   "execution_count": 488,
   "id": "417d9b85",
   "metadata": {},
   "outputs": [],
   "source": [
    "lab_am_text = Label(clock,text = 'AM/PM',font = ('Time New Roman ',20,'bold'),\n",
    "              bg = 'red',fg = 'white')\n",
    "lab_am_text.place(x = 780,y = 190,height = 40,width = 100)"
   ]
  },
  {
   "cell_type": "code",
   "execution_count": 489,
   "id": "f882675d",
   "metadata": {},
   "outputs": [],
   "source": [
    "lab_date = Label(clock,text = '00',font = ('Time New Roman ',60,'bold'),\n",
    "              bg = 'red',fg = 'white')\n",
    "lab_date.place(x = 120,y = 270,height = 110,width = 100)"
   ]
  },
  {
   "cell_type": "code",
   "execution_count": 490,
   "id": "54ab74b0",
   "metadata": {},
   "outputs": [],
   "source": [
    "lab_date_text = Label(clock,text = 'Date',font = ('Time New Roman ',20,'bold'),\n",
    "              bg = 'red',fg = 'white')\n",
    "lab_date_text.place(x = 120,y = 410,height = 40,width = 100)"
   ]
  },
  {
   "cell_type": "code",
   "execution_count": 491,
   "id": "654ff14c",
   "metadata": {},
   "outputs": [],
   "source": [
    "lab_mo = Label(clock,text = '00',font = ('Time New Roman ',60,'bold'),\n",
    "              bg = 'red',fg = 'white')\n",
    "lab_mo.place(x = 340,y = 270,height = 110,width = 100)"
   ]
  },
  {
   "cell_type": "code",
   "execution_count": 492,
   "id": "ab6be2e3",
   "metadata": {},
   "outputs": [],
   "source": [
    "lab_mo_text = Label(clock,text = 'Month',font = ('Time New Roman ',20,'bold'),\n",
    "              bg = 'red',fg = 'white')\n",
    "lab_mo_text.place(x = 340,y = 410,height = 40,width = 100)"
   ]
  },
  {
   "cell_type": "code",
   "execution_count": 493,
   "id": "1d3d0825",
   "metadata": {},
   "outputs": [],
   "source": [
    "lab_year = Label(clock,text = '00',font = ('Time New Roman ',60,'bold'),\n",
    "              bg = 'red',fg = 'white')\n",
    "lab_year.place(x = 560,y = 270,height = 110,width = 100)"
   ]
  },
  {
   "cell_type": "code",
   "execution_count": 494,
   "id": "9b6b0bb3",
   "metadata": {},
   "outputs": [],
   "source": [
    "lab_year_text = Label(clock,text = 'Year',font = ('Time New Roman ',20,'bold'),\n",
    "              bg = 'red',fg = 'white')\n",
    "lab_year_text.place(x = 560,y = 410,height = 40,width = 100)"
   ]
  },
  {
   "cell_type": "code",
   "execution_count": 495,
   "id": "6a47abda",
   "metadata": {},
   "outputs": [],
   "source": [
    "lab_day = Label(clock,text = '00',font = ('Time New Roman ',35,'bold'),\n",
    "              bg = 'red',fg = 'white')\n",
    "lab_day.place(x = 780,y = 270,height = 110,width = 100)"
   ]
  },
  {
   "cell_type": "code",
   "execution_count": 496,
   "id": "573773b2",
   "metadata": {},
   "outputs": [],
   "source": [
    "lab_day_text = Label(clock,text = 'Day',font = ('Time New Roman ',20,'bold'),\n",
    "              bg = 'red',fg = 'white')\n",
    "lab_day_text.place(x = 780,y = 410,height = 40,width = 100)"
   ]
  },
  {
   "cell_type": "code",
   "execution_count": 497,
   "id": "1defc06b",
   "metadata": {},
   "outputs": [],
   "source": [
    "date_time()"
   ]
  },
  {
   "cell_type": "code",
   "execution_count": 498,
   "id": "6e341d35",
   "metadata": {},
   "outputs": [],
   "source": [
    "clock.mainloop()"
   ]
  }
 ],
 "metadata": {
  "kernelspec": {
   "display_name": "Python 3 (ipykernel)",
   "language": "python",
   "name": "python3"
  },
  "language_info": {
   "codemirror_mode": {
    "name": "ipython",
    "version": 3
   },
   "file_extension": ".py",
   "mimetype": "text/x-python",
   "name": "python",
   "nbconvert_exporter": "python",
   "pygments_lexer": "ipython3",
   "version": "3.10.11"
  }
 },
 "nbformat": 4,
 "nbformat_minor": 5
}
